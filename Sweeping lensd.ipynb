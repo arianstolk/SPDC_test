{
 "cells": [
  {
   "cell_type": "code",
   "execution_count": 1,
   "metadata": {
    "collapsed": true
   },
   "outputs": [],
   "source": [
    "import cProfile\n",
    "import re\n",
    "import scipy\n",
    "import numpy as np\n",
    "import random\n",
    "\n",
    "\n",
    "import matplotlib.pyplot as plt\n",
    "from mpl_toolkits.mplot3d import Axes3D"
   ]
  },
  {
   "cell_type": "code",
   "execution_count": 2,
   "metadata": {},
   "outputs": [
    {
     "name": "stdout",
     "output_type": "stream",
     "text": [
      "C:\\Users\\ArianStolk\\Documents\\GitHub\\SPDC\n"
     ]
    }
   ],
   "source": [
    "cd C:\\Users\\ArianStolk\\Documents\\GitHub\\SPDC\n"
   ]
  },
  {
   "cell_type": "code",
   "execution_count": 3,
   "metadata": {
    "collapsed": true
   },
   "outputs": [],
   "source": [
    "%run main.py\n",
    "%run physics.py"
   ]
  },
  {
   "cell_type": "code",
   "execution_count": 4,
   "metadata": {
    "collapsed": true,
    "scrolled": false
   },
   "outputs": [],
   "source": [
    "\n",
    "\n",
    "# Crystal1=Crystal(name = 'BBO1',material = 'BBO',position = [0,0,3],thickness = 6,orientation=\"up\",cutangle=28.76*np.pi/180)\n",
    "# HalfWave = HWP(name='Hwp',material=None,position=[0,0,7],thickness=0,cutoff=500)\n",
    "# Crystal2=Crystal(name = 'BBO2',material = 'BBO',position = [0,0,11],thickness = 6,orientation=\"up\",cutangle=28.76*np.pi/180)\n",
    "# Crystal3=Crystal(name = 'YVO1',material = 'YVO4',position = [0,0,19],thickness = 3.12 ,orientation=\"left\",cutangle=90*np.pi/180)\n",
    "# ACH=Lens.asphere(position = [0,0,60],centre=[-0.6,0,0],f= 50)\n",
    "# Csetup=ExpSetup(Crystal1,HalfWave,Crystal2,Crystal3,ACH)\n",
    "# sim=Simulation(rays=[0],setup=Csetup,store_path=True,store_time=True)\n",
    "# sim.run(Ntot=1000000,gen_SPDC = True,pumpray=Ray(position=[0,0,0],angles=[0,0],wavelength=405,polarization=\"H\"),pump_waist=[0.06,0.03],pump_focus=[8,8],l_min=650,theta_min=-2*np.pi/180,theta_max=2*np.pi/180,cutangle=28.76*np.pi/180)\n",
    "# SPDC_list=sim.start_list\n",
    "# print(len(sim.complete_results[0][0]))\n",
    "\n",
    "\n"
   ]
  },
  {
   "cell_type": "code",
   "execution_count": 5,
   "metadata": {
    "collapsed": true
   },
   "outputs": [],
   "source": [
    "def get_interpolation_matrices(rays,centre,diam):\n",
    "    Hit_Lens_True=[]\n",
    "    for i,ray in enumerate(rays):\n",
    "        Hit_Lens_True.append(((ray[0][...,8][...,0:2]-np.array(centre))*(ray[0][...,8][...,0:2]-np.array(centre))).sum(axis=1)<(diam**2)/4)\n",
    "    \n",
    "    comb_truthH=np.logical_and(Hit_Lens_True[0],Hit_Lens_True[1])\n",
    "    comb_truthV=np.logical_and(Hit_Lens_True[2],Hit_Lens_True[3])\n",
    "\n",
    "    result_matrices = [np.float32(rays[0][0][...,-2][...,0:2][comb_truthH]),np.float32(rays[0][0][...,-1][...,0:2][comb_truthH]),np.float32(rays[1][0][...,-2][...,0:2][comb_truthH]),np.float32(rays[1][0][...,-1][...,0:2][comb_truthH]),np.float32(rays[2][0][...,-2][...,0:2][comb_truthV]),np.float32(rays[2][0][...,-1][...,0:2][comb_truthV]),np.float32(rays[3][0][...,-2][...,0:2][comb_truthV]),np.float32(rays[3][0][...,-1][...,0:2][comb_truthV])]\n",
    "    \n",
    "    z_beg_val=np.float32(rays[0][0][...,-2][0][...,2])\n",
    "    z_end_val=np.float32(rays[0][0][...,-1][0][...,2])\n",
    "    \n",
    "    result_matrices.append(z_beg_val)    \n",
    "    result_matrices.append(z_end_val)\n",
    "    \n",
    "    return result_matrices\n",
    "\n",
    "def get_results_evol(visualization,x):\n",
    "    visualization.filter_results(fibre_pos=np.array(x),core_diam = fibre_diam ,Num_Ap=fibre_NA)\n",
    "#     Hit_Lens_True=((visualization.complete_results[0][0][...,8][...,0:2]-np.array([-0.6,0]))*(visualization.complete_results[0][0][...,8][...,0:2]-np.array([-0.6,0]))).sum(axis=1)<(7.5**2)/4\n",
    "    \n",
    "#     dummy_new=[[[] for _ in range(5)] for _ in range(4)]\n",
    "#     for i,dummy_list in enumerate(visualization.dummy_surface):\n",
    "#         Hit_Lens_True=((visualization.complete_results[i][0][...,8][...,0:2]-np.array([-0.6,0]))*(visualization.complete_results[i][0][...,8][...,0:2]-np.array([-0.6,0]))).sum(axis=1)<(7.5**2)/4\n",
    "\n",
    "#         for j,attr in enumerate(dummy_list[0:-2]):\n",
    "#             dummy_new[i][j]=attr[Hit_Lens_True]\n",
    "                \n",
    "#     visualization.dummy_surface=dummy_new \n",
    "\n",
    "    \n",
    "#     visualization.filter_results(fibre_pos=np.array(x),core_diam = fibre_diam ,Num_Ap=fibre_NA)\n",
    "    coinc=len(visualization.coincidences[0][0])+len(visualization.coincidences[2][0])\n",
    "\n",
    "#     signalH_e=(coinc)/(len(visualization.singles[1][0])+1)\n",
    "#     idlerH_e=(coinc)/(len(visualization.singles[0][0])+1)\n",
    "#     signalV_e=(coinc)/(len(visualization.singles[3][0])+1)\n",
    "#     idlerV_e=(coinc)/(len(visualization.singles[2][0])+1)\n",
    "    print(\"final coinc are\",coinc)\n",
    "#     spectrumH=np.histogram(np.concatenate((visualization.singles[0][2],visualization.singles[1][2])),np.linspace(600,1100,100))\n",
    "#     spectrumV=np.histogram(np.concatenate((visualization.singles[2][2],visualization.singles[3][2])),np.linspace(600,1100,100))\n",
    "    return [visualization.coincidences,visualization.singles,visualization.coincidences_SPDC_list,x]\n",
    "        \n",
    "        \n",
    "\n",
    "# def get_coinc_evol(x,focus_z,diam,numap,lenspos,fac=10):\n",
    "#     fibre_position=vis2.get_focus_pos(pos=rays_end + x[2]+lenspos + focus_z)+np.array([x[0],x[1],0])\n",
    "#     vis2.filter_results(fibre_pos=fibre_position,core_diam = diam,Num_Ap=numap)\n",
    "    \n",
    "#     return fac*abs(len(vis2.coincidences[0][0])-len(vis2.coincidences[2][0]))-len(vis2.coincidences[0][0])-len(vis2.coincidences[2][0])\n",
    "\n",
    "def get_counts_evol(x,diam,numap):\n",
    "    vis2.filter_results(fibre_pos=x,core_diam = diam,Num_Ap=numap)\n",
    "    return [vis2.coincidences,vis2.singles,vis2.coincidences_SPDC_list,x]\n",
    "\n",
    "def focus_setup(y,sbeg,send,ibeg,iend,z_beg,z_end,offset=0):\n",
    "    returnlist=[]\n",
    "    pos=offset+y\n",
    "    \n",
    "    scale=((pos-z_beg)/(z_end-z_beg))\n",
    "#     scale=((pos-z_beg)/(z_end-z_beg))[0]\n",
    "    \n",
    "    signal=sbeg+(send-sbeg)*scale\n",
    "    idler=ibeg+(iend-ibeg)*scale\n",
    "\n",
    "    spot_sig=np.histogram2d(signal[:,0],signal[:,1],[np.linspace(-0.8,-0.2,20),np.linspace(-0.2,0.2,10)])[0]\n",
    "    spot_idl=np.histogram2d(idler[:,0],idler[:,1],[np.linspace(-0.8,-0.2,20),np.linspace(-0.2,0.2,10)])[0]\n",
    "    \n",
    "    comb_spot=(spot_sig+spot_idl)\n",
    "    \n",
    "    return np.max(comb_spot)"
   ]
  },
  {
   "cell_type": "code",
   "execution_count": 6,
   "metadata": {
    "scrolled": false
   },
   "outputs": [
    {
     "name": "stdout",
     "output_type": "stream",
     "text": [
      "3645\n"
     ]
    },
    {
     "data": {
      "image/png": "[encoded data removed]",
      "text/plain": [
       "<matplotlib.figure.Figure at 0x2501a229a90>"
      ]
     },
     "metadata": {},
     "output_type": "display_data"
    },
    {
     "name": "stdout",
     "output_type": "stream",
     "text": [
      "936.0 9.22613065327\n",
      "0.15 0.025 1 [-0.6, 0, 41.226130653266331]\n",
      "coincidences are 452.0 (9, 10, 62)\n",
      "0.1125 0.016875 0.805 [-0.60789472, 0.0013157895, 41.058346]\n",
      "coincidences are 566.0 (10, 9, 78)\n",
      "0.056953125 0.0094921875 0.42564375 [-0.60197365, 0.00042763163, 41.096165]\n",
      "coincidences are 578.0 (10, 9, 73)\n",
      "0.0216243896484 0.00400451660156 0.166400103516 [-0.59897614, -7.1957184e-05, 41.087593]\n",
      "coincidences are 584.0 (9, 10, 69)\n",
      "0.0068420920372 0.00114034867287 0.0515970320979 [-0.60011429, 0.00013880685, 41.07531]\n",
      "coincidences are 582.0 (9, 7, 94)\n",
      "0.00162366051273 0.000324732102547 0.0141216642732 [-0.60047442, -0.0001612849, 41.088814]\n"
     ]
    },
    {
     "ename": "KeyboardInterrupt",
     "evalue": "",
     "output_type": "error",
     "traceback": [
      "\u001b[1;31m---------------------------------------------------------------------------\u001b[0m",
      "\u001b[1;31mKeyboardInterrupt\u001b[0m                         Traceback (most recent call last)",
      "\u001b[1;32m<ipython-input-6-0cc78362aa3a>\u001b[0m in \u001b[0;36m<module>\u001b[1;34m()\u001b[0m\n\u001b[0;32m     74\u001b[0m                     \u001b[0mz_range\u001b[0m\u001b[1;33m=\u001b[0m\u001b[0mnp\u001b[0m\u001b[1;33m.\u001b[0m\u001b[0mlinspace\u001b[0m\u001b[1;33m(\u001b[0m\u001b[0msearch_pos\u001b[0m\u001b[1;33m[\u001b[0m\u001b[1;36m2\u001b[0m\u001b[1;33m]\u001b[0m\u001b[1;33m-\u001b[0m\u001b[0mdz\u001b[0m\u001b[1;33m,\u001b[0m\u001b[0msearch_pos\u001b[0m\u001b[1;33m[\u001b[0m\u001b[1;36m2\u001b[0m\u001b[1;33m]\u001b[0m\u001b[1;33m+\u001b[0m\u001b[0mdz\u001b[0m\u001b[1;33m,\u001b[0m\u001b[1;36m150\u001b[0m\u001b[1;33m,\u001b[0m\u001b[0mdtype\u001b[0m\u001b[1;33m=\u001b[0m\u001b[0mnp\u001b[0m\u001b[1;33m.\u001b[0m\u001b[0mfloat32\u001b[0m\u001b[1;33m)\u001b[0m\u001b[1;33m\u001b[0m\u001b[0m\n\u001b[0;32m     75\u001b[0m \u001b[1;33m\u001b[0m\u001b[0m\n\u001b[1;32m---> 76\u001b[1;33m                     \u001b[0mHres\u001b[0m\u001b[1;33m=\u001b[0m\u001b[0md_coinc\u001b[0m\u001b[1;33m(\u001b[0m\u001b[0mHsbeg\u001b[0m\u001b[1;33m,\u001b[0m \u001b[0mHsend\u001b[0m \u001b[1;33m,\u001b[0m\u001b[0mHibeg\u001b[0m\u001b[1;33m,\u001b[0m\u001b[0mHiend\u001b[0m\u001b[1;33m,\u001b[0m\u001b[0mx_range\u001b[0m\u001b[1;33m,\u001b[0m\u001b[0my_range\u001b[0m\u001b[1;33m,\u001b[0m\u001b[1;33m(\u001b[0m\u001b[0mz_range\u001b[0m\u001b[1;33m-\u001b[0m\u001b[0mz_beg_val\u001b[0m\u001b[1;33m)\u001b[0m\u001b[1;33m/\u001b[0m\u001b[1;33m(\u001b[0m\u001b[0mz_end_val\u001b[0m\u001b[1;33m-\u001b[0m\u001b[0mz_beg_val\u001b[0m\u001b[1;33m)\u001b[0m\u001b[1;33m)\u001b[0m\u001b[1;33m\u001b[0m\u001b[0m\n\u001b[0m\u001b[0;32m     77\u001b[0m                     \u001b[0mVres\u001b[0m\u001b[1;33m=\u001b[0m\u001b[0md_coinc\u001b[0m\u001b[1;33m(\u001b[0m\u001b[0mVsbeg\u001b[0m\u001b[1;33m,\u001b[0m \u001b[0mVsend\u001b[0m \u001b[1;33m,\u001b[0m\u001b[0mVibeg\u001b[0m\u001b[1;33m,\u001b[0m\u001b[0mViend\u001b[0m\u001b[1;33m,\u001b[0m\u001b[0mx_range\u001b[0m\u001b[1;33m,\u001b[0m\u001b[0my_range\u001b[0m\u001b[1;33m,\u001b[0m\u001b[1;33m(\u001b[0m\u001b[0mz_range\u001b[0m\u001b[1;33m-\u001b[0m\u001b[0mz_beg_val\u001b[0m\u001b[1;33m)\u001b[0m\u001b[1;33m/\u001b[0m\u001b[1;33m(\u001b[0m\u001b[0mz_end_val\u001b[0m\u001b[1;33m-\u001b[0m\u001b[0mz_beg_val\u001b[0m\u001b[1;33m)\u001b[0m\u001b[1;33m)\u001b[0m\u001b[1;33m\u001b[0m\u001b[0m\n\u001b[0;32m     78\u001b[0m                     \u001b[0mcoincs\u001b[0m\u001b[1;33m=\u001b[0m\u001b[0mnp\u001b[0m\u001b[1;33m.\u001b[0m\u001b[0mmax\u001b[0m\u001b[1;33m(\u001b[0m\u001b[0mHres\u001b[0m\u001b[1;33m+\u001b[0m\u001b[0mVres\u001b[0m\u001b[1;33m-\u001b[0m\u001b[1;36m20\u001b[0m\u001b[1;33m*\u001b[0m\u001b[0mnp\u001b[0m\u001b[1;33m.\u001b[0m\u001b[0mabs\u001b[0m\u001b[1;33m(\u001b[0m\u001b[0mHres\u001b[0m\u001b[1;33m-\u001b[0m\u001b[0mVres\u001b[0m\u001b[1;33m)\u001b[0m\u001b[1;33m)\u001b[0m\u001b[1;33m\u001b[0m\u001b[0m\n",
      "\u001b[1;31mKeyboardInterrupt\u001b[0m: "
     ]
    }
   ],
   "source": [
    "Optimize = True\n",
    "xrange=np.linspace(1,5,25)\n",
    "# lensd_coinc=[[],[],[]]\n",
    "# lensd_result=[[],[],[]]\n",
    "# result_list=np.load(\"C:/Users/Arian Stolk/Documents/optim_sweep_10112017_20to100d5_foc04_asph75.npz\")['arr_0']\n",
    "# pump_M2_list=np.array([[1.0577,1.1076],[1.4723,1.0191],[1.6733,1]])*1\n",
    "# pumps = [[0.098334,0.096517],[0.096551,0.052454],[0.081456,0.025478]]\n",
    "# pump_focus_list=[[7,7],[7,7],[7,7]]\n",
    "pump_M2_list=np.array([[1.,1.],[1.4723,1.0191],[1.6733,1]])*1\n",
    "pumps = [[0.368334,0.276517],[0.096551,0.052454],[0.081456,0.025478]]\n",
    "pump_focus_list=[[7,7],[7,7],[7,7]]\n",
    "lensd_fibre=[[[] for x in range(len(xrange))]for y in pumps]\n",
    "lensd_photons=[[[] for x in range(len(xrange))]for y in pumps]\n",
    "# lensd_fibre=[[[] for x in range(len([8,8,8]))]for y in pumps]\n",
    "# lensd_photons=[[[] for x in range(len([8,8,8]))]for y in pumps]\n",
    "\n",
    "for i in [0]:\n",
    "    fibre_NA=[0.1,0.1,0.22][2]\n",
    "    fibre_diam=[0.005,0.025,0.05][2]\n",
    "    pump_M2=pump_M2_list[i]\n",
    "    pump=pumps[i]\n",
    "    pump_focus=pump_focus_list[i]\n",
    "#     for j,holes in enumerate([8,8,8]): \n",
    "    for j,holes in enumerate(xrange):\n",
    "#         for j,holes in enumerate([2,2.5,3,3.5,4,4.5,5,6,7,9,10,11]):\n",
    "        lensd=7+25*holes\n",
    "        Crystal1=Crystal(name = 'BBO1',material = 'BBO',position = [0,0,3],thickness = 6,orientation=\"up\",cutangle=28.76*np.pi/180)\n",
    "        HalfWave = HWP(name='Hwp',material=None,position=[0,0,7],thickness=0,cutoff=500)\n",
    "        Crystal2=Crystal(name = 'BBO2',material = 'BBO',position = [0,0,11],thickness = 6,orientation=\"up\",cutangle=28.76*np.pi/180)\n",
    "        Crystal3=Crystal(name = 'YVO1',material = 'YVO4',position = [0,0,19],thickness = 3.12,orientation=\"left\",cutangle=90*np.pi/180)\n",
    "        ACH=Lens.achromat_aitor_r(position = [0,0,lensd],centre=[-0.6,0,0],f=250)\n",
    "        ASPH=Lens.asphere_r(position = [0,0,lensd],centre=[-0.6,0,0],f=250)\n",
    "        Csetup=ExpSetup(Crystal1,HalfWave,Crystal2,Crystal3,ASPH)\n",
    "        sim2=Simulation(rays=[0],setup=Csetup,calc_phase=True)\n",
    "        sim2.run(Ntot=1000000,nr_crystals=2,gen_SPDC = True,pumpray=Ray(position=[0,0,0],angles=[0,0],wavelength=405,polarization=\"H\"),pump_waist=pump,pump_focus=pump_focus,pump_M2=pump_M2)\n",
    "        print(len(sim2.complete_results[0][0]))\n",
    "        vis2=Visualization(simulation=sim2)\n",
    "        [Hsbeg,Hsend,Hibeg,Hiend,Vsbeg,Vsend,Vibeg,Viend,z_beg_val,z_end_val]=get_interpolation_matrices(vis2.complete_results,[-0.6,0],7.5)\n",
    "\n",
    "        [Hsbeg,Hsend,Hibeg,Hiend]=Visualization.select_NA_TRUE(Hsbeg,Hsend,Hibeg,Hiend,z_beg_val,z_end_val)\n",
    "        [Vsbeg,Vsend,Vibeg,Viend]=Visualization.select_NA_TRUE(Vsbeg,Vsend,Vibeg,Viend,z_beg_val,z_end_val)\n",
    "        \n",
    "        plt.figure()\n",
    "        plt.plot(np.linspace(8,12,100),[focus_setup(x,Hsbeg,Hsend,Hibeg,Hiend,z_beg_val,z_end_val,offset=lensd) for x in np.linspace(8,12,100)])\n",
    "        plt.plot(np.linspace(8,12,100),[focus_setup(x,Vsbeg,Vsend,Vibeg,Viend,z_beg_val,z_end_val,offset=lensd) for x in np.linspace(8,12,100)])\n",
    "        plt.plot(np.linspace(8,12,100),[focus_setup(x,Hsbeg,Hsend,Hibeg,Hiend,z_beg_val,z_end_val,offset=lensd)+focus_setup(x,Vsbeg,Vsend,Vibeg,Viend,z_beg_val,z_end_val,offset=lensd)-np.abs(focus_setup(x,Hsbeg,Hsend,Hibeg,Hiend,z_beg_val,z_end_val,offset=lensd)-focus_setup(x,Vsbeg,Vsend,Vibeg,Viend,z_beg_val,z_end_val,offset=lensd))*20 for x in np.linspace(8,12,100)])\n",
    "        plt.title(\"pump is {} and lensd is {}\".format(pump,lensd))\n",
    "        plt.show()\n",
    "\n",
    "#             [(vis2.showpos_single(pos = x+lenspos),print(focus_setup(x+lenspos,sbeg,send,ibeg,iend,z_beg_val,z_end_val))) for x in np.linspace(15,21,25)]\n",
    "\n",
    "#         print(np.min([vis2.showpos_single(pos=x+lenspos) for x in np.linspace(0,100,100)]))\n",
    "        if Optimize:\n",
    "            scanlist=[focus_setup(x,Hsbeg,Hsend,Hibeg,Hiend,z_beg_val,z_end_val,offset=lensd)+focus_setup(x,Vsbeg,Vsend,Vibeg,Viend,z_beg_val,z_end_val,offset=lensd)-np.abs(focus_setup(x,Hsbeg,Hsend,Hibeg,Hiend,z_beg_val,z_end_val,offset=lensd)-focus_setup(x,Vsbeg,Vsend,Vibeg,Viend,z_beg_val,z_end_val,offset=lensd))*20 for x in np.linspace(8,12,200)]\n",
    "            result_for_foc=[np.max(scanlist),np.linspace(8,12,200)[np.argmax(scanlist)]]\n",
    "            print(result_for_foc[0],result_for_foc[1])\n",
    "            search_pos=[-0.6,0,result_for_foc[1]+lensd]\n",
    "\n",
    "            dx=0.15\n",
    "            dy=0.025\n",
    "            dz=1\n",
    "            res=np.empty((20,20,150))\n",
    "            scale=1\n",
    "            scale_evol=0.75\n",
    "            coinc_start= 0\n",
    "            coincs= 0\n",
    "            been_0=False\n",
    "            while dz>0.01 and dz<10 :\n",
    "\n",
    "                    print(dx,dy,dz,search_pos)\n",
    "\n",
    "                    x_range=np.linspace(search_pos[0]-dx,search_pos[0]+dx,20,dtype=np.float32)\n",
    "                    y_range=np.linspace(search_pos[1]-dy,search_pos[1]+dy,20,dtype=np.float32)\n",
    "                    z_range=np.linspace(search_pos[2]-dz,search_pos[2]+dz,150,dtype=np.float32)\n",
    "\n",
    "                    Hres=d_coinc(Hsbeg, Hsend ,Hibeg,Hiend,x_range,y_range,(z_range-z_beg_val)/(z_end_val-z_beg_val))\n",
    "                    Vres=d_coinc(Vsbeg, Vsend ,Vibeg,Viend,x_range,y_range,(z_range-z_beg_val)/(z_end_val-z_beg_val))\n",
    "                    coincs=np.max(Hres+Vres-20*np.abs(Hres-Vres))\n",
    "                    maxindex=np.unravel_index(np.argmax(Hres+Vres-20*np.abs(Hres-Vres)),res.shape)\n",
    "\n",
    "\n",
    "                    if coincs < 2:\n",
    "                        dx *= 1.\n",
    "                        dy *= 1.\n",
    "                        dz *= 1.1\n",
    "#                             search_pos[2]+=1\n",
    "                        been_0 =True\n",
    "#                             if not coincs == 0: \n",
    "#                                 search_pos[2] = z_range[maxindex[2]]\n",
    "                        dx = max(0.2,dx)\n",
    "                        dy = max(0.05,dy)\n",
    "\n",
    "\n",
    "                    else:\n",
    "                        if been_0:\n",
    "                            dx=0.1\n",
    "                            dy=0.02\n",
    "                            dz=1.5\n",
    "                            been_0 = False\n",
    "\n",
    "                        scale *=scale_evol \n",
    "                        dx *= scale*(0.9+2*((abs(maxindex[0]-10))/20))\n",
    "                        dy *= scale*(0.9+2*((abs(maxindex[1]-10))/20))\n",
    "                        dz *= scale*(0.9+2*((abs(maxindex[2]-75))/150))\n",
    "\n",
    "#                         dx *= 2/100\n",
    "#                         dy *= 2/60\n",
    "#                         dz *= 2/100\n",
    "\n",
    "                        search_pos = [x_range[maxindex[0]],y_range[maxindex[1]],z_range[maxindex[2]]]\n",
    "                    print(\"coincidences are\",coincs,maxindex)\n",
    "            print(search_pos)\n",
    "            lensd_fibre[i][j]=search_pos\n",
    "            \n",
    "            del sim2.start_list\n",
    "            del sim2.complete_results\n",
    "            sim2.interpol_pos = 0\n",
    "#             print(hasattr(sim2,'start_list'))\n",
    "            sim2.run(Ntot=240000000,nr_crystals=2,gen_SPDC = True,pumpray=Ray(position=[0,0,0],angles=[0,0],wavelength=405,polarization=\"H\"),pump_waist=pump,pump_focus=pump_focus,pump_M2=pump_M2)\n",
    "            print(len(sim2.complete_results))\n",
    "            vis_result=Visualization(simulation=sim2)\n",
    "            vis_result.SPDC_list=sim2.start_list\n",
    "            lensd_photons[i][j] = get_results_evol(vis_result,search_pos)\n"
   ]
  },
  {
   "cell_type": "code",
   "execution_count": null,
   "metadata": {
    "scrolled": false
   },
   "outputs": [],
   "source": [
    "big_results=lensd_photons\n",
    "dist_list=[x*25 for x in xrange]\n",
    "c=3*1e8\n",
    "\n",
    "def showresults_sweep(results= big_results[0]):\n",
    "    overlaplist=[]\n",
    "    for i,x in enumerate(results):\n",
    "        if len(x[0][0][3])>0 and len(x[0][1][3])>0 and len(x[0][2][3])>0 and len(x[0][3][3])>0:\n",
    "            bins1=np.histogram(1e15*(x[0][0][3]-x[0][1][3]),bins=np.linspace(-200,1700,1900/50))\n",
    "            bins2=np.histogram(1e15*(x[0][2][3]-x[0][3][3]),bins=np.linspace(-200,1700,1900/50))\n",
    "            overlap=np.sum(np.min((bins1[0],bins2[0]),axis=0))/max(sum(bins1[0]),sum(bins2[0]))\n",
    "            overlaplist.append(overlap)\n",
    "        else:\n",
    "            overlaplist.append(0)\n",
    "   \n",
    "    y = dist_list\n",
    "    \n",
    "    fig, ax = plt.subplots(2, 3,figsize=(12,6))\n",
    "    \n",
    "    ax[1,0].plot(y,[[len(x[0][0][0]),len(x[0][2][0])] for x in results])\n",
    "    ax[1,0].set_title('Coincidences')\n",
    "    \n",
    "    ax[1,1].plot(y,overlaplist)\n",
    "    ax[1,1].set_title('TO of H and V')\n",
    "    \n",
    "    ax[0,0].plot(y,[x[3][2]-y[k] for k,x in enumerate(results)])\n",
    "    ax[0,0].set_title('fibre pos Z')\n",
    "    \n",
    "    ax[0,1].plot(y,[x[3][1] for x in results])\n",
    "    ax[0,1].set_title('fibre pos y')\n",
    "    \n",
    "    ax[0,2].plot(y,[x[3][0] for x in results])\n",
    "    ax[0,2].set_title('fibre pos x')\n",
    "\n",
    "    ax[1,2].plot(y,[[(len(x[0][0][0])+len(x[0][2][0]))/(1+len(x[1][0][0])+len(x[1][2][0])),(len(x[0][0][0])+len(x[0][2][0]))/(1+len(x[1][1][0])+len(x[1][3][0]))]  if (len(x[1][0][0])+len(x[1][2][0]))>0 else [0,0] for x in results])\n",
    "    ax[1,2].set_title('Coupling efficiency of Signal and Idler photons')\n",
    "      \n",
    "    \n",
    "    plt.show()\n",
    "    \n",
    "#     plt.figure()\n",
    "#     plt.plot(y,[[len(x[1][0][0]),len(x[1][1][0]),len(x[1][2][0]),len(x[1][3][0])] for x in results],label=['1','2','3','4'])\n",
    "#     plt.legend()\n",
    "#     plt.title('Singles for H and V with respect to lens position')\n",
    "#     plt.show()\n",
    "    \n",
    "\n",
    "#     for i,x in enumerate(results):\n",
    "#         plt.figure()\n",
    "#         plt.hist(np.concatenate((x[1][0][2],x[1][1][2])),np.linspace(600,1100,500/10),alpha=0.5)\n",
    "#         plt.hist(np.concatenate((x[1][2][2],x[1][3][2])),np.linspace(600,1100,500/10),alpha=0.5)\n",
    "#         plt.title('TO H and V is {:03.1f}%'.format(100*overlaplist[i]))\n",
    "#         plt.show()\n",
    "            \n",
    "# ###Temporal information ###          \n",
    "#     for i,x in enumerate(results):\n",
    "#         f, axarr = plt.subplots(1, 2,figsize=(20,10))\n",
    "#         const_phase=np.min((x[0][2][3]/x[0][2][2]+x[0][3][3]/x[0][3][2])/2)\n",
    "        \n",
    "#         axarr[0].hist(1e9*2*np.pi*c*((x[0][0][3]/x[0][0][2]+x[0][1][3]/x[0][1][2])/2-const_phase),100,alpha=0.5)\n",
    "#         axarr[0].hist(1e9*2*np.pi*c*((x[0][2][3]/x[0][2][2]+x[0][3][3]/x[0][3][2])/2-const_phase),100,alpha=0.5)\n",
    "        \n",
    "#         axarr[1].hist(1e9*2*np.pi*c*((x[0][0][3]/x[0][0][2]-x[0][1][3]/x[0][1][2])/2),100,alpha=0.5)\n",
    "#         axarr[1].hist(1e9*2*np.pi*c*((x[0][2][3]/x[0][2][2]-x[0][3][3]/x[0][3][2])/2),100,alpha=0.5)\n",
    "\n",
    "#         bins1=np.histogram(1e15*(x[0][0][3]-x[0][1][3]),bins=np.linspace(-200,2000,2200/50))\n",
    "#         bins2=np.histogram(1e15*(x[0][2][3]-x[0][3][3]),bins=np.linspace(-200,2000,2200/50))\n",
    "#         overlap=np.sum(np.min((bins1[0],bins2[0]),axis=0))/max(sum(bins1[0]),sum(bins2[0],1))\n",
    "\n",
    "#         f.suptitle('TO H and V is {:03.1f}%, d = {:3.0f}'.format(overlap*100,dist_list[i]))\n",
    "#         plt.show()\n",
    "\n",
    "# ###Start positions###          \n",
    "#     for i,x in enumerate(results):\n",
    "#         f, axarr = plt.subplots(1, 3,figsize=(20,10))\n",
    "        \n",
    "#         for j in range(3):\n",
    "#             axarr[j].hist((np.concatenate((x[2][0][0],x[2][1][0])).T)[j],bins=[np.linspace(-1,0.2,20),np.linspace(-0.5,0.5,20),np.linspace(0,6,20)][j],alpha=0.5)\n",
    "#             axarr[j].hist([0.4,0,0][j]+(np.concatenate((x[2][2][0],x[2][3][0])).T)[j],bins=[np.linspace(-1,0.2,20),np.linspace(-0.5,0.5,20),np.linspace(8,14,20)][j],alpha=0.5)\n",
    "\n",
    "#             bins1=np.histogram(1e15*(x[0][0][3]-x[0][1][3]),bins=np.linspace(-200,2000,2200/50))\n",
    "#             bins2=np.histogram(1e15*(x[0][2][3]-x[0][3][3]),bins=np.linspace(-200,2000,2200/50))\n",
    "#             overlap=np.sum(np.min((bins1[0],bins2[0]),axis=0))/max(sum(bins1[0]),sum(bins2[0],1))\n",
    "\n",
    "#             f.suptitle('TO H and V is {:03.1f}%, d = {:3.0f}'.format(overlap*100,dist_list[i]))\n",
    "#         plt.show()\n",
    "\n",
    "# ######Start angles#########\n",
    "#     for i,x in enumerate(results):\n",
    "#         opangle_H = np.sign([y[0] for y in x[2][0][1]])*0.5*np.linalg.norm((x[2][0][1]-x[2][1][1]),axis=1)\n",
    "#         opangle_V = np.sign([y[0] for y in x[2][2][1]])*0.5*np.linalg.norm((x[2][2][1]-x[2][3][1]),axis=1)\n",
    "        \n",
    "#         propangle_H = 0.5*(x[2][0][1]+x[2][1][1])\n",
    "#         propangle_V = 0.5*(x[2][2][1]+x[2][3][1])\n",
    "#         f, axarr = plt.subplots(1, 3,figsize=(20,10))\n",
    "        \n",
    "#         axarr[0].hist(180/np.pi*opangle_H,np.linspace(-1.8,1.8,40),alpha=0.5)\n",
    "#         axarr[0].hist(180/np.pi*opangle_V,np.linspace(-1.8,1.8,40),alpha=0.5)\n",
    "#         axarr[1].hist(np.sign([y[0] for y in propangle_H])*180/np.pi*np.linalg.norm(propangle_H,axis=1),np.linspace(-.1,0.1,40),alpha=0.5)\n",
    "#         axarr[1].hist(np.sign([y[0] for y in propangle_V])*180/np.pi*np.linalg.norm(propangle_V,axis=1),np.linspace(-0.1,0.1,40),alpha=0.5)\n",
    "#         axarr[2].scatter([180/np.pi*x[0] for x in propangle_H],[180/np.pi*x[1] for x in propangle_H],alpha=0.5)\n",
    "#         axarr[2].scatter([180/np.pi*x[0] for x in propangle_V],[180/np.pi*x[1] for x in propangle_V],alpha=0.5)\n",
    "#         axarr[2].set_xlim([-0.1,0.1])\n",
    "#         axarr[2].set_ylim([-0.1,0.1])\n",
    "\n",
    "#         bins1=np.histogram(1e15*(x[0][0][3]-x[0][1][3]),bins=np.linspace(-200,1700,1900/20))\n",
    "#         bins2=np.histogram(1e15*(x[0][2][3]-x[0][3][3]),bins=np.linspace(-200,1700,1900/20))\n",
    "#         overlap=np.sum(np.min((bins1[0],bins2[0]),axis=0))/max(sum(bins1[0]),sum(bins2[0],1))\n",
    "\n",
    "#         f.suptitle('TO H and V is {:03.1f}%, d = {:3.0f}'.format(overlap*100,20+5*i))\n",
    "#         plt.show()\n",
    "\n",
    "# ######Start angles with respect to position (corrected for walkoff)#########\n",
    "#     for i,x in enumerate(results):\n",
    "        \n",
    "#         propangle_H = 0.5*(x[2][0][1]+x[2][1][1])\n",
    "#         propangle_V = 0.5*(x[2][2][1]+x[2][3][1])\n",
    "        \n",
    "#         opangle_H = 0.5*(x[2][0][1]-x[2][1][1])\n",
    "#         opangle_V = 0.5*(x[2][2][1]-x[2][3][1])\n",
    "#         f, axarr = plt.subplots(1, 3,figsize=(20,10))\n",
    "        \n",
    "#         ax1=axarr[0].scatter([180/np.pi*x[0] for x in propangle_H],[y[0] + 0.4*y[2]/6  for y in x[2][0][0]],c=[y[2]/12 for y in x[2][0][0]],cmap='plasma',vmin=0,vmax=1)\n",
    "#         ax3=axarr[2].scatter([180/np.pi*x[1] for x in propangle_H],[y[1] for y in x[2][0][0]],cmap='plasma',c=[y[2]/12 for y in x[2][0][0]],vmin=0,vmax=1)\n",
    "#         ax1=axarr[0].scatter([180/np.pi*x[0] for x in propangle_V],[y[0] +0.4*(y[2]-8)/6 for y in x[2][2][0]],c=[(y[2])/12 for y in x[2][2][0]],cmap='plasma',vmin=0,vmax=1)\n",
    "#         ax3=axarr[2].scatter([180/np.pi*x[1] for x in propangle_V],[y[1] for y in x[2][2][0]],c=[(y[2])/12 for y in x[2][2][0]],cmap='plasma',vmin=0,vmax=1)\n",
    "#         ax3=axarr[1].scatter([x[0] for x in x[2][0][0]],[x[2] for x in x[2][0][0]],c=[(y[2])/12 for y in x[2][0][0]],cmap='plasma',vmin=0,vmax=1)\n",
    "#         ax3=axarr[1].scatter([x[0] for x in x[2][2][0]],[x[2] for x in x[2][2][0]],c=[(y[2])/12 for y in x[2][2][0]],cmap='plasma',vmin=0,vmax=1)\n",
    "# #         axarr[1].set_xlim([-0.5,0.5])\n",
    "#         axarr[1].set_xlabel('propangle in degree vs H y')\n",
    "# #         axarr[1].set_ylim([-0.4,0.4])\n",
    "# #         axarr[0].set_xlim([-0.5,0.5])\n",
    "#         axarr[0].set_xlabel('propangle in degree vs H x')\n",
    "# #         axarr[0].set_ylim([-0.4,0.4])\n",
    "# #         axarr[2].set_xlim([-0.5,0.5])\n",
    "# #         axarr[2].set_xlabel('propangle in degree vs H x')\n",
    "# #         axarr[2].set_ylim([-0.4,0.4])\n",
    "# #         axarr[3].set_xlim([-0.5,0.5])\n",
    "# #         axarr[3].set_xlabel('propangle in degree vs V y')\n",
    "# #         axarr[3].set_ylim([-0.4,0.4])\n",
    "#         f.colorbar(ax1,ax=axarr[0])\n",
    "#         bins1=np.histogram(1e15*(x[0][0][3]-x[0][1][3]),bins=np.linspace(-200,1700,1900/50))\n",
    "#         bins2=np.histogram(1e15*(x[0][2][3]-x[0][3][3]),bins=np.linspace(-200,1700,1900/50))\n",
    "#         overlap=np.sum(np.min((bins1[0],bins2[0]),axis=0))/max(sum(bins1[0]),sum(bins2[0],1))\n",
    "\n",
    "#         f.suptitle('TO H and V is {:03.1f}%, d = {:3.0f}'.format(overlap*100,20+5*i))\n",
    "#         plt.show()\n",
    "\n",
    "showresults_sweep(results= big_results[0])"
   ]
  },
  {
   "cell_type": "code",
   "execution_count": null,
   "metadata": {
    "collapsed": true
   },
   "outputs": [],
   "source": [
    "np.savez(\"C:/Users/Arian Stolk/Documents/optim_sweep_12112017_20to100d5_ast06_asph75\",lensd_result)"
   ]
  },
  {
   "cell_type": "markdown",
   "metadata": {},
   "source": [
    "get_counts_evol([-0.6,0,151],0.1,0.22)"
   ]
  },
  {
   "cell_type": "code",
   "execution_count": null,
   "metadata": {},
   "outputs": [],
   "source": [
    "x=big_results[0][15]\n",
    "tresh =0.000\n",
    "where_list=[np.sqrt(((x[2][k][1]-x[2][k+1][1])*(x[2][k][1]-x[2][k+1][1])).sum(axis=1))>tresh for k in [0,2]]\n",
    "where_h=where_list[0]\n",
    "where_v=where_list[1]\n",
    "\n",
    "selected_array=[[[] for _ in range(4)] for _ in range(4)]\n",
    "\n",
    "for i,raysx,raysy in zip(range(len(x[0])),x[0],x[2]):\n",
    "    print(i)\n",
    "    for j in range(4):\n",
    "        selected_array[i][j]=[raysx,raysy,raysx,raysx][j][j][[where_h,where_h,where_v,where_v][i]]\n",
    "        \n",
    "plt.figure()\n",
    "plt.hist((selected_array[0][1]-selected_array[1][1]).T[0],25,alpha=0.5)\n",
    "plt.hist((selected_array[2][1]-selected_array[3][1]).T[0],25,alpha=0.5)\n",
    "plt.show()"
   ]
  },
  {
   "cell_type": "code",
   "execution_count": null,
   "metadata": {
    "scrolled": true
   },
   "outputs": [],
   "source": [
    "big_results=lensd_photons\n",
    "overlaplist=[]\n",
    "phaselist=[]\n",
    "delta=0.1*np.pi/180\n",
    "\n",
    "\n",
    "for tresh in np.linspace(-0.5*np.pi/180,0.5*np.pi/180,30):\n",
    "    x=big_results[0][7]\n",
    "    where_list=[np.logical_and((x[2][k][1]-x[2][k+1][1]).T[1]>(tresh-delta),(x[2][k][1]-x[2][k+1][1]).T[1]<(tresh+delta)) for k in [0,2]]\n",
    "    where_h=where_list[0]\n",
    "    where_v=where_list[1]\n",
    "\n",
    "    selected_array=[[[] for _ in range(4)] for _ in range(4)]\n",
    "\n",
    "    for i,raysx,raysy in zip(range(len(x[0])),x[0],x[2]):\n",
    "        for j in range(4):\n",
    "            selected_array[i][j]=[raysx,raysy,raysx,raysx][j][j][[where_h,where_h,where_v,where_v][i]]\n",
    "    \n",
    "    x=selected_array\n",
    "#     f, axarr = plt.subplots(1, 1,figsize=(20,10))\n",
    "#     const_phase=np.min(x[2][3]+x[3][3])\n",
    "\n",
    "# #     axarr.hist(((x[0][3]+x[1][3])-const_phase),100,alpha=0.5)\n",
    "# #     axarr.hist(((x[2][3]+x[3][3])-const_phase),100,alpha=0.5)\n",
    "    \n",
    "#     axarr.hist(((x[0][3]-x[1][3])),100,alpha=0.5)\n",
    "#     axarr.hist(((x[2][3]-x[3][3])),100,alpha=0.5)\n",
    "\n",
    "# #     axarr.hist(1e15*((x[0][3]-x[1][3])/2),bins=np.linspace(0,1000,1000/20),alpha=0.5)\n",
    "# #     axarr.hist(1e15*((x[2][3]-x[3][3])/2),bins=np.linspace(0,1000,1000/20),alpha=0.5)\n",
    "\n",
    "#     f.suptitle('angle is {} to {}, phasediff = {}'.format(np.round((tresh-delta)*180/np.pi,3),np.round((tresh+delta)*180/np.pi,3),phase))\n",
    "#     plt.show()\n",
    "\n",
    "    bins1=np.histogram((x[0][3]-x[1][3]),bins=np.linspace(0,300000,200))\n",
    "    bins2=np.histogram((x[2][3]-x[3][3]),bins=np.linspace(0,300000,200))\n",
    "    overlap=np.sum(np.min((bins1[0],bins2[0]),axis=0))/max(sum(bins1[0]),sum(bins2[0],1))\n",
    "    phase=np.round(np.mean(x[0][3]+x[1][3])-np.mean(x[2][3]+x[3][3]),2)\n",
    "\n",
    "    overlaplist.append(overlap)\n",
    "    phaselist.append(phase)\n",
    "\n",
    "plt.figure()\n",
    "plt.plot(np.linspace(-1,1,30),(phaselist-min(phaselist)))\n",
    "plt.xlim([-1,1])\n",
    "plt.show()\n",
    "\n",
    "plt.figure()\n",
    "plt.plot(overlaplist)\n",
    "plt.show()\n"
   ]
  },
  {
   "cell_type": "code",
   "execution_count": null,
   "metadata": {},
   "outputs": [],
   "source": [
    "lensd_photons[0][0][1][3][3]"
   ]
  },
  {
   "cell_type": "code",
   "execution_count": null,
   "metadata": {
    "collapsed": true,
    "scrolled": false
   },
   "outputs": [],
   "source": [
    "%run main.py\n",
    "###Lens test ### \n",
    "def rayset(N=25,xrange=[1,1],lam=850):\n",
    "    X,Y = np.meshgrid(np.linspace(-xrange[0],xrange[0],N),np.linspace(-xrange[1],xrange[1],N))\n",
    "    pos = np.array([[0,0,0] for x,y in zip(flatten(X),flatten(Y))])\n",
    "    angles = np.array([[x*1*np.pi*3/180,y*1*np.pi*3/180] for x,y in zip(flatten(X),flatten(Y))])\n",
    "#     print(angles)\n",
    "    wavelength = np.full((N**2,1),lam,dtype=float)\n",
    "    pol = np.full((1),'V',dtype=str)\n",
    "    times = np.full((N**2,1),0,dtype=float)\n",
    "    return [[pos,angles,wavelength,times,pol]]\n",
    "\n",
    "def rayset_col(N=25,xrange=[1,1],lam=850):\n",
    "    X,Y = np.meshgrid(np.linspace(-xrange[0],xrange[0],N),np.linspace(-xrange[1],xrange[1],N))\n",
    "    pos = np.array([[x,y,0] for x,y in zip(flatten(X),flatten(Y))])\n",
    "    angles = np.array([[x*0*np.pi*3/180,y*0*np.pi*3/180] for x,y in zip(flatten(X),flatten(Y))])\n",
    "#     print(angles)\n",
    "    wavelength = np.full((N**2,1),lam,dtype=float)\n",
    "    pol = np.full((1),'V',dtype=str)\n",
    "    times = np.full((N**2,1),0,dtype=float)\n",
    "    return [[pos,angles,wavelength,times,pol]]\n",
    "\n",
    "def run_lens_sim_ACH_aitor_r(pos=[0,0,10],centre=[0,0],f=1000):\n",
    "    ACH=Lens.achromat_aitor_r(position = pos,centre=centre,f=f)\n",
    "    sim3=Simulation(rays=[0],setup=ExpSetup(ACH))\n",
    "    sim3.start_list=rayset()\n",
    "    sim3.run()\n",
    "    return sim3\n",
    "\n",
    "def run_lens_sim_ACH_aitor(pos=[0,0,10],centre=[0,0],f=1000):\n",
    "    ACH=Lens.achromat_aitor(position = pos,centre=centre,f=f)\n",
    "    sim3=Simulation(rays=[0],setup=ExpSetup(ACH))\n",
    "    sim3.start_list=rayset()\n",
    "    sim3.run()\n",
    "    return sim3\n",
    "\n",
    "def run_lens_sim_ASPH(pos=[0,0,10],centre=[0,0],f=1000):\n",
    "    ACH=Lens.asphere(position = pos,centre=centre,f=f)\n",
    "    sim3=Simulation(rays=[0],setup=ExpSetup(ACH))\n",
    "    sim3.start_list=rayset_col()\n",
    "    sim3.run()\n",
    "    return sim3\n",
    "\n",
    "def run_lens_sim_ASPH_r(pos=[0,0,10],centre=[0,0],f=1000):\n",
    "    ACH=Lens.asphere_r(position = pos,centre=centre,f=f)\n",
    "    sim3=Simulation(rays=[0],setup=ExpSetup(ACH))\n",
    "    sim3.start_list=rayset()\n",
    "    sim3.run()\n",
    "    return sim3\n",
    "    \n",
    "    "
   ]
  },
  {
   "cell_type": "code",
   "execution_count": 497,
   "metadata": {
    "scrolled": false
   },
   "outputs": [
    {
     "data": {
      "image/png": "[encoded data removed]",
      "text/plain": [
       "<matplotlib.figure.Figure at 0x24ed641b898>"
      ]
     },
     "metadata": {},
     "output_type": "display_data"
    },
    {
     "data": {
      "image/png": "[encoded data removed]",
      "text/plain": [
       "<matplotlib.figure.Figure at 0x24ed4b156d8>"
      ]
     },
     "metadata": {},
     "output_type": "display_data"
    },
    {
     "data": {
      "image/png": "[encoded data removed]",
      "text/plain": [
       "<matplotlib.figure.Figure at 0x24ed7d48668>"
      ]
     },
     "metadata": {},
     "output_type": "display_data"
    },
    {
     "data": {
      "image/png": "[encoded data removed]",
      "text/plain": [
       "<matplotlib.figure.Figure at 0x24ed7fe6908>"
      ]
     },
     "metadata": {},
     "output_type": "display_data"
    }
   ],
   "source": [
    "x=20\n",
    "f=7.6\n",
    "vis10=Visualization(simulation=run_lens_sim_ASPH(pos=[0,0,x],centre=[0,0]))\n",
    "vis10.showpos_single(pos=x-2.75/2)\n",
    "vis10.showpos_single(pos=x+f)\n",
    "\n",
    "x=8.61\n",
    "f=400\n",
    "vis10=Visualization(simulation=run_lens_sim_ASPH_r(pos=[0,0,x],centre=[0,0]))\n",
    "vis10.showpos_single(pos=x-2.75/2)\n",
    "vis10.showpos_single(pos=x+f)\n"
   ]
  },
  {
   "cell_type": "code",
   "execution_count": 517,
   "metadata": {},
   "outputs": [
    {
     "data": {
      "image/png": "[encoded data removed]",
      "text/plain": [
       "<matplotlib.figure.Figure at 0x24ed7d0bfd0>"
      ]
     },
     "metadata": {},
     "output_type": "display_data"
    },
    {
     "data": {
      "image/png": "[encoded data removed]",
      "text/plain": [
       "<matplotlib.figure.Figure at 0x24ed80109b0>"
      ]
     },
     "metadata": {},
     "output_type": "display_data"
    }
   ],
   "source": [
    "# x=20\n",
    "# f=14.2\n",
    "# vis10=Visualization(simulation=run_lens_sim_ASPH_r(pos=[0,0,x],centre=[0,0]))\n",
    "# vis10.showpos_single(pos=x-2.75/2)\n",
    "# vis10.showpos_single(pos=x+f)\n",
    "\n",
    "x=12\n",
    "f=x+5\n",
    "vis10=Visualization(simulation=run_lens_sim_ASPH(pos=[0,0,x],centre=[0,0]))\n",
    "vis10.showpos_single(pos=x-2.75/2)\n",
    "vis10.showpos_single(pos=x+f)\n"
   ]
  },
  {
   "cell_type": "code",
   "execution_count": 461,
   "metadata": {
    "scrolled": false
   },
   "outputs": [
    {
     "data": {
      "image/png": "[encoded data removed]",
      "text/plain": [
       "<matplotlib.figure.Figure at 0x24ed500c128>"
      ]
     },
     "metadata": {},
     "output_type": "display_data"
    },
    {
     "data": {
      "image/png": "[encoded data removed]",
      "text/plain": [
       "<matplotlib.figure.Figure at 0x24ed6602fd0>"
      ]
     },
     "metadata": {},
     "output_type": "display_data"
    }
   ],
   "source": [
    "# x=10\n",
    "# f=30\n",
    "\n",
    "# vis10=Visualization(simulation=run_lens_sim_ACH_aitor(pos=[0,0,x],centre=[0,0]))\n",
    "# vis10.showpos_single(pos=x-1.3)\n",
    "# vis10.showpos_single(pos=x+f)\n",
    "\n",
    "\n",
    "x=13.37\n",
    "f=1\n",
    "\n",
    "vis10=Visualization(simulation=run_lens_sim_ACH_aitor_r(pos=[0,0,x],centre=[0,0]))\n",
    "vis10.showpos_single(pos=x)\n",
    "vis10.showpos_single(pos=x+f)\n"
   ]
  },
  {
   "cell_type": "code",
   "execution_count": 74,
   "metadata": {},
   "outputs": [
    {
     "data": {
      "text/plain": [
       "343"
      ]
     },
     "execution_count": 74,
     "metadata": {},
     "output_type": "execute_result"
    }
   ],
   "source": [
    "get_coinc_evol([0,0,0],15,0.025,0.1,150,50)"
   ]
  },
  {
   "cell_type": "code",
   "execution_count": 29,
   "metadata": {},
   "outputs": [
    {
     "data": {
      "text/plain": [
       "0.09991418818165915"
      ]
     },
     "execution_count": 29,
     "metadata": {},
     "output_type": "execute_result"
    }
   ],
   "source": [
    "2.355*0.060/sqrt(2)"
   ]
  },
  {
   "cell_type": "code",
   "execution_count": 442,
   "metadata": {},
   "outputs": [
    {
     "data": {
      "text/plain": [
       "[array([[[1, 2],\n",
       "         [1, 3]]]), array([[[3, 2],\n",
       "         [1, 2]],\n",
       " \n",
       "        [[2, 1],\n",
       "         [2, 2]]]), array([[[4, 4],\n",
       "         [4, 4]]])]"
      ]
     },
     "execution_count": 442,
     "metadata": {},
     "output_type": "execute_result"
    }
   ],
   "source": [
    "np.split(np.array([[[1,2],[1,3]],[[3,2],[1,2]],[[2,1],[2,2]],[[4,4],[4,4]]]),[1,3],axis=0)"
   ]
  },
  {
   "cell_type": "code",
   "execution_count": 11,
   "metadata": {},
   "outputs": [
    {
     "data": {
      "text/plain": [
       "2.0673226124315613"
      ]
     },
     "execution_count": 11,
     "metadata": {},
     "output_type": "execute_result"
    }
   ],
   "source": []
  },
  {
   "cell_type": "code",
   "execution_count": 34,
   "metadata": {},
   "outputs": [
    {
     "data": {
      "text/plain": [
       "array([[ 1.,  1.,  1.,  1.,  1.,  1.,  1.,  1.,  1.,  1.]])"
      ]
     },
     "execution_count": 34,
     "metadata": {},
     "output_type": "execute_result"
    }
   ],
   "source": [
    "np.full((1,10),1,dtype=float)"
   ]
  },
  {
   "cell_type": "code",
   "execution_count": 103,
   "metadata": {},
   "outputs": [
    {
     "data": {
      "text/plain": [
       "dtype('int32')"
      ]
     },
     "execution_count": 103,
     "metadata": {},
     "output_type": "execute_result"
    }
   ],
   "source": [
    "np.where([True,True,False],[1,1,1],[0,0,0]).dtype"
   ]
  },
  {
   "cell_type": "code",
   "execution_count": 9,
   "metadata": {},
   "outputs": [
    {
     "data": {
      "text/plain": [
       "[0, 0, 0.0005069957, 1.013651e-05, 8.523273e-07, 0]"
      ]
     },
     "execution_count": 9,
     "metadata": {},
     "output_type": "execute_result"
    }
   ],
   "source": [
    "Lens.asph_coeff[0][0]"
   ]
  },
  {
   "cell_type": "code",
   "execution_count": 22,
   "metadata": {},
   "outputs": [
    {
     "ename": "TypeError",
     "evalue": "float() argument must be a string or a number, not 'list'",
     "output_type": "error",
     "traceback": [
      "\u001b[0;31m---------------------------------------------------------------------------\u001b[0m",
      "\u001b[0;31mTypeError\u001b[0m                                 Traceback (most recent call last)",
      "\u001b[0;32m<ipython-input-22-8d0d54b63366>\u001b[0m in \u001b[0;36m<module>\u001b[0;34m()\u001b[0m\n\u001b[0;32m----> 1\u001b[0;31m \u001b[0mfloat\u001b[0m\u001b[1;33m(\u001b[0m\u001b[1;33m[\u001b[0m\u001b[1;36m10\u001b[0m\u001b[1;33m]\u001b[0m\u001b[1;33m)\u001b[0m\u001b[1;33m\u001b[0m\u001b[0m\n\u001b[0m",
      "\u001b[0;31mTypeError\u001b[0m: float() argument must be a string or a number, not 'list'"
     ]
    }
   ],
   "source": []
  },
  {
   "cell_type": "code",
   "execution_count": 7,
   "metadata": {
    "collapsed": true
   },
   "outputs": [],
   "source": [
    "ACH=Lens.achromat(position = [0,0,rays_end+20+lensd*5],centre=[-0.6,0,0],f=200)\n"
   ]
  },
  {
   "cell_type": "code",
   "execution_count": 12,
   "metadata": {},
   "outputs": [
    {
     "ename": "TypeError",
     "evalue": "'NoneType' object is not subscriptable",
     "output_type": "error",
     "traceback": [
      "\u001b[0;31m---------------------------------------------------------------------------\u001b[0m",
      "\u001b[0;31mTypeError\u001b[0m                                 Traceback (most recent call last)",
      "\u001b[0;32m<ipython-input-12-7ce3b04e651f>\u001b[0m in \u001b[0;36m<module>\u001b[0;34m()\u001b[0m\n\u001b[0;32m----> 1\u001b[0;31m \u001b[0mACH\u001b[0m\u001b[1;33m[\u001b[0m\u001b[1;36m0\u001b[0m\u001b[1;33m]\u001b[0m\u001b[1;33m\u001b[0m\u001b[0m\n\u001b[0m",
      "\u001b[0;31mTypeError\u001b[0m: 'NoneType' object is not subscriptable"
     ]
    }
   ],
   "source": [
    "ACH[0]"
   ]
  },
  {
   "cell_type": "code",
   "execution_count": 104,
   "metadata": {
    "collapsed": true
   },
   "outputs": [],
   "source": [
    "test_array=np.array([[1,1,1],[2,2,2],[3,3,3],[4,4,4],[5,5,5]])"
   ]
  },
  {
   "cell_type": "code",
   "execution_count": 111,
   "metadata": {},
   "outputs": [
    {
     "data": {
      "text/plain": [
       "array([[24, 24, 24],\n",
       "       [49, 49, 49],\n",
       "       [72, 72, 72]])"
      ]
     },
     "execution_count": 111,
     "metadata": {},
     "output_type": "execute_result"
    }
   ],
   "source": [
    "np.dot(np.reshape(test_array,np.flipud(test_array.shape)),test_array)"
   ]
  },
  {
   "cell_type": "code",
   "execution_count": 108,
   "metadata": {},
   "outputs": [
    {
     "data": {
      "text/plain": [
       "array([3, 5])"
      ]
     },
     "execution_count": 108,
     "metadata": {},
     "output_type": "execute_result"
    }
   ],
   "source": [
    "np.flipud(test_array.shape)"
   ]
  },
  {
   "cell_type": "code",
   "execution_count": 118,
   "metadata": {},
   "outputs": [
    {
     "data": {
      "text/plain": [
       "array([ 3, 12, 27, 48, 75])"
      ]
     },
     "execution_count": 118,
     "metadata": {},
     "output_type": "execute_result"
    }
   ],
   "source": [
    "(test_array*test_array).sum(axis=1)"
   ]
  },
  {
   "cell_type": "code",
   "execution_count": 28,
   "metadata": {},
   "outputs": [
    {
     "data": {
      "text/plain": [
       "[[array([  3.58483417e+01,  -3.79357655e-02,   3.02276997e-02]),\n",
       "  array([  3.63075789e+01,   1.40402626e-02,   2.44445545e-03]),\n",
       "  array([  3.55424520e+01,  -8.90624797e-02,  -3.54859813e-02]),\n",
       "  array([  3.54388655e+01,   3.94129711e-02,  -1.22498794e-02]),\n",
       "  array([  3.49315166e+01,   2.63012271e-03,  -2.01453640e-02]),\n",
       "  array([  3.59428762e+01,   4.33398792e-02,  -6.51852534e-03]),\n",
       "  array([  3.56903950e+01,   9.01765459e-02,  -2.90368658e-02]),\n",
       "  array([  3.49505697e+01,   1.23865294e-02,   2.31968948e-02]),\n",
       "  array([  3.48506008e+01,   1.45137644e-02,   3.27148998e-03]),\n",
       "  array([  3.59009502e+01,  -1.66829268e-02,   4.18205497e-02]),\n",
       "  array([  3.45146568e+01,  -8.84837840e-02,  -2.66862805e-03]),\n",
       "  array([  3.46819879e+01,   9.93441882e-03,   1.25283619e-02]),\n",
       "  array([  3.40625290e+01,  -3.57628149e-02,   7.54629970e-03]),\n",
       "  array([  3.26310073e+01,   6.35276379e-02,  -9.23469665e-03]),\n",
       "  array([  3.42763632e+01,   9.56490217e-04,  -3.05643664e-02]),\n",
       "  array([  3.53952612e+01,  -6.03765076e-02,  -2.92293229e-02]),\n",
       "  array([ 34.39324605,  -0.05295478,   0.03562083]),\n",
       "  array([  3.41450840e+01,   9.91665325e-03,   2.16070140e-02]),\n",
       "  array([  3.55683078e+01,   2.71045756e-02,  -3.61304493e-02]),\n",
       "  array([  3.40627057e+01,  -9.80426824e-03,  -1.79865665e-04])],\n",
       " [array([  3.69675728e+01,   9.20101250e-03,  -1.91199739e-02]),\n",
       "  array([  3.69135834e+01,   9.22692417e-02,  -3.09205706e-02]),\n",
       "  array([  3.61665086e+01,  -5.60633818e-02,  -1.88121600e-02]),\n",
       "  array([  3.60194632e+01,  -1.04904751e-02,  -2.87089020e-02]),\n",
       "  array([  3.58906596e+01,  -5.00823927e-03,  -3.02243826e-03]),\n",
       "  array([  3.42537458e+01,   8.33069592e-03,  -1.58252437e-02]),\n",
       "  array([  3.45025747e+01,   3.38444232e-02,  -1.02431759e-02]),\n",
       "  array([  3.54487903e+01,  -9.88710294e-02,  -3.40659057e-02]),\n",
       "  array([  3.56880483e+01,   6.87457853e-02,   2.09007902e-02]),\n",
       "  array([  3.40689266e+01,   1.01810054e-02,  -2.19470103e-02]),\n",
       "  array([  3.51138563e+01,   1.88362203e-02,   4.20334778e-03]),\n",
       "  array([  3.47743168e+01,  -2.37560862e-02,  -2.31802067e-02]),\n",
       "  array([  3.46637291e+01,  -2.41192996e-02,  -2.11946457e-02]),\n",
       "  array([  3.35765929e+01,  -1.51763153e-02,  -7.13823317e-03]),\n",
       "  array([ 34.37533655,  -0.07096011,  -0.03524558]),\n",
       "  array([  3.36406659e+01,   1.64600511e-02,  -2.35920757e-02]),\n",
       "  array([  3.44718814e+01,   8.72287650e-03,   1.39522005e-02]),\n",
       "  array([  3.30884559e+01,  -8.23419977e-02,  -1.88057890e-03]),\n",
       "  array([  3.40209104e+01,  -8.54876294e-02,   2.00544792e-03]),\n",
       "  array([  3.43326470e+01,   3.30287150e-02,   8.67694362e-04])],\n",
       " [array([  3.65350349e+01,  -5.40842813e-02,   1.08752765e-02]),\n",
       "  array([  3.67435184e+01,   1.99131646e-02,  -1.17251902e-03]),\n",
       "  array([  3.61490574e+01,  -4.40805057e-02,   6.53602750e-03]),\n",
       "  array([  3.63973664e+01,   4.23951525e-02,   1.18987520e-03]),\n",
       "  array([  3.62365579e+01,   5.11617187e-02,   1.25106236e-03]),\n",
       "  array([  3.56465968e+01,  -3.41940987e-02,   2.74185220e-03]),\n",
       "  array([  3.58624218e+01,   5.31418118e-02,   5.24692454e-03]),\n",
       "  array([  3.55576070e+01,   1.48091187e-02,  -1.08741517e-02]),\n",
       "  array([  3.54316911e+01,   3.03932947e-02,  -3.12650805e-03]),\n",
       "  array([  3.52820039e+01,   3.15290737e-02,  -2.21395686e-03]),\n",
       "  array([  3.51241169e+01,   1.77881102e-02,   6.44245275e-03]),\n",
       "  array([  3.50005261e+01,   1.32311558e-02,   6.12842163e-03]),\n",
       "  array([  3.47144886e+01,  -2.55832050e-02,   5.49449512e-03]),\n",
       "  array([  3.47733472e+01,   9.63781425e-03,   3.18005594e-03]),\n",
       "  array([  3.46747351e+01,   1.35426092e-02,   1.14562568e-03]),\n",
       "  array([  3.46004935e+01,   2.38743254e-02,   2.11060842e-03]),\n",
       "  array([  3.44978332e+01,   1.77197342e-02,   1.85119342e-03]),\n",
       "  array([  3.44154374e+01,   1.36788215e-02,   1.23419522e-02]),\n",
       "  array([  3.43259864e+01,   1.62467963e-02,  -3.85068458e-03]),\n",
       "  array([  3.43439341e+01,   4.78217761e-02,   1.80390830e-03])]]"
      ]
     },
     "execution_count": 28,
     "metadata": {},
     "output_type": "execute_result"
    }
   ],
   "source": [
    "lensd_result"
   ]
  },
  {
   "cell_type": "code",
   "execution_count": 32,
   "metadata": {},
   "outputs": [
    {
     "data": {
      "text/plain": [
       "[[0, 0, 0, 0, 0, 0, 0, 0, 0, 0, 0, 0, 0, 0, 0, 0, 0, 0, 0, 0],\n",
       " [0, 0, 0, 0, 0, 0, 0, 0, 0, 0, 0, 0, 0, 0, 0, 0, 0, 0, 0, 0],\n",
       " [0, 0, 0, 0, 0, 0, 0, 0, 0, 0, 0, 0, 0, 0, 0, 0, 0, 0, 0, 0]]"
      ]
     },
     "execution_count": 32,
     "metadata": {},
     "output_type": "execute_result"
    }
   ],
   "source": [
    "lensd_coinc"
   ]
  },
  {
   "cell_type": "code",
   "execution_count": 23,
   "metadata": {},
   "outputs": [
    {
     "data": {
      "text/plain": [
       "<matplotlib.figure.Figure at 0x1ce00481b00>"
      ]
     },
     "metadata": {},
     "output_type": "display_data"
    },
    {
     "data": {
      "image/png": "[encoded data removed]",
      "text/plain": [
       "<matplotlib.figure.Figure at 0x1ce004442b0>"
      ]
     },
     "metadata": {},
     "output_type": "display_data"
    }
   ],
   "source": [
    "plt.figure()\n",
    "plt.plot(np.array(lensd_coinc).T)\n",
    "plt.show()"
   ]
  },
  {
   "cell_type": "code",
   "execution_count": 9,
   "metadata": {},
   "outputs": [
    {
     "data": {
      "text/plain": [
       "array([ 0.,  0.,  0.,  0.,  0.,  0.,  0.,  0.,  0.,  0.])"
      ]
     },
     "execution_count": 9,
     "metadata": {},
     "output_type": "execute_result"
    }
   ],
   "source": [
    "np.zeros(10)"
   ]
  },
  {
   "cell_type": "code",
   "execution_count": null,
   "metadata": {
    "collapsed": true
   },
   "outputs": [],
   "source": []
  }
 ],
 "metadata": {
  "kernelspec": {
   "display_name": "Python 3",
   "language": "python",
   "name": "python3"
  },
  "language_info": {
   "codemirror_mode": {
    "name": "ipython",
    "version": 3
   },
   "file_extension": ".py",
   "mimetype": "text/x-python",
   "name": "python",
   "nbconvert_exporter": "python",
   "pygments_lexer": "ipython3",
   "version": "3.6.3"
  }
 },
 "nbformat": 4,
 "nbformat_minor": 2
}
